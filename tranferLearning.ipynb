{
 "cells": [
  {
   "cell_type": "code",
   "execution_count": 2,
   "metadata": {},
   "outputs": [
    {
     "name": "stdout",
     "output_type": "stream",
     "text": [
      "2.7.0\n"
     ]
    }
   ],
   "source": [
    "import tensorflow as tf\n",
    "print(tf.__version__)\n"
   ]
  },
  {
   "cell_type": "code",
   "execution_count": 3,
   "metadata": {
    "pycharm": {
     "is_executing": true
    }
   },
   "outputs": [
    {
     "name": "stdout",
     "output_type": "stream",
     "text": [
      "Tensorflow version: 2.7.0\n"
     ]
    }
   ],
   "source": [
    "\n",
    "import numpy as np\n",
    "import cv2\n",
    "\n",
    "import PIL.Image as Image\n",
    "import os\n",
    "\n",
    "import matplotlib.pylab as plt\n",
    "\n",
    "import tensorflow as tf\n",
    "# import tensorflow_hub as hub\n",
    "from tensorflow.keras.preprocessing.image import ImageDataGenerator\n",
    "\n",
    "from tensorflow import keras\n",
    "from tensorflow.keras.layers import Dense,Flatten\n",
    "from tensorflow.keras import layers\n",
    "from tensorflow.keras.models import Sequential\n",
    "from tensorflow.keras.optimizers import Adam\n",
    "from tensorflow.keras.utils import plot_model\n",
    "print(\"Tensorflow version:\", tf.__version__)"
   ]
  },
  {
   "cell_type": "code",
   "execution_count": 4,
   "metadata": {},
   "outputs": [],
   "source": [
    "#  !pip install --upgrade tensorflow_hub"
   ]
  },
  {
   "cell_type": "code",
   "execution_count": 5,
   "metadata": {},
   "outputs": [],
   "source": [
    "# from keras.layers import Dense,Flatten\n",
    "# from keras.applications.vgg16 import VGG16"
   ]
  },
  {
   "cell_type": "code",
   "execution_count": 6,
   "metadata": {},
   "outputs": [],
   "source": [
    "# pip install keras.applications.resnet50"
   ]
  },
  {
   "cell_type": "code",
   "execution_count": 7,
   "metadata": {},
   "outputs": [],
   "source": [
    "# pip install keras.applications.VGG19"
   ]
  },
  {
   "cell_type": "code",
   "execution_count": 8,
   "metadata": {},
   "outputs": [],
   "source": [
    "# conv_base = VGG16(\n",
    "#     weights='imagenet',\n",
    "#     include_top = False,\n",
    "#     input_shape=(48,48,3)\n",
    "# )"
   ]
  },
  {
   "cell_type": "code",
   "execution_count": 9,
   "metadata": {},
   "outputs": [
    {
     "name": "stdout",
     "output_type": "stream",
     "text": [
      "Found 5234 images belonging to 6 classes.\n",
      "Found 1210 images belonging to 6 classes.\n"
     ]
    }
   ],
   "source": [
    "image_size=128\n",
    "batch_size = 32\n",
    "\n",
    "train_datagen = ImageDataGenerator(\n",
    "        rescale=1./255,\n",
    "        shear_range=0.2,\n",
    "        zoom_range=0.2,\n",
    "        horizontal_flip=True)\n",
    "\n",
    "test_datagen = ImageDataGenerator(rescale=1./255)\n",
    "# datagen_train = ImageDataGenerator(horizontal_flip=True)\n",
    "# datagen_validation = ImageDataGenerator(horizontal_flip=True)\n",
    "train_generator = train_datagen.flow_from_directory(\n",
    "        \"Train/\",\n",
    "        target_size=(image_size,image_size),\n",
    "        batch_size=batch_size,\n",
    "        class_mode='categorical',\n",
    "        shuffle=True) \n",
    "\n",
    "validation_generator = test_datagen.flow_from_directory(\n",
    "        \"Test/\",\n",
    "        target_size=(image_size,image_size),\n",
    "        batch_size=batch_size,\n",
    "        class_mode='categorical',\n",
    "         shuffle=True)"
   ]
  },
  {
   "cell_type": "code",
   "execution_count": null,
   "metadata": {},
   "outputs": [],
   "source": []
  },
  {
   "cell_type": "code",
   "execution_count": 69,
   "metadata": {},
   "outputs": [
    {
     "name": "stdout",
     "output_type": "stream",
     "text": [
      "<keras.preprocessing.image.DirectoryIterator object at 0x7f4a10f646a0>\n"
     ]
    }
   ],
   "source": [
    "print(validation_generator)"
   ]
  },
  {
   "cell_type": "code",
   "execution_count": 11,
   "metadata": {},
   "outputs": [],
   "source": [
    "from tensorflow.keras.applications import VGG19\n",
    "from keras.models import Model\n",
    "import keras\n",
    "base_model = VGG19(include_top=False, weights='imagenet', input_shape=(image_size,image_size,3))"
   ]
  },
  {
   "cell_type": "code",
   "execution_count": 12,
   "metadata": {},
   "outputs": [
    {
     "name": "stdout",
     "output_type": "stream",
     "text": [
      "Model: \"vgg19\"\n",
      "_________________________________________________________________\n",
      " Layer (type)                Output Shape              Param #   \n",
      "=================================================================\n",
      " input_2 (InputLayer)        [(None, 128, 128, 3)]     0         \n",
      "                                                                 \n",
      " block1_conv1 (Conv2D)       (None, 128, 128, 64)      1792      \n",
      "                                                                 \n",
      " block1_conv2 (Conv2D)       (None, 128, 128, 64)      36928     \n",
      "                                                                 \n",
      " block1_pool (MaxPooling2D)  (None, 64, 64, 64)        0         \n",
      "                                                                 \n",
      " block2_conv1 (Conv2D)       (None, 64, 64, 128)       73856     \n",
      "                                                                 \n",
      " block2_conv2 (Conv2D)       (None, 64, 64, 128)       147584    \n",
      "                                                                 \n",
      " block2_pool (MaxPooling2D)  (None, 32, 32, 128)       0         \n",
      "                                                                 \n",
      " block3_conv1 (Conv2D)       (None, 32, 32, 256)       295168    \n",
      "                                                                 \n",
      " block3_conv2 (Conv2D)       (None, 32, 32, 256)       590080    \n",
      "                                                                 \n",
      " block3_conv3 (Conv2D)       (None, 32, 32, 256)       590080    \n",
      "                                                                 \n",
      " block3_conv4 (Conv2D)       (None, 32, 32, 256)       590080    \n",
      "                                                                 \n",
      " block3_pool (MaxPooling2D)  (None, 16, 16, 256)       0         \n",
      "                                                                 \n",
      " block4_conv1 (Conv2D)       (None, 16, 16, 512)       1180160   \n",
      "                                                                 \n",
      " block4_conv2 (Conv2D)       (None, 16, 16, 512)       2359808   \n",
      "                                                                 \n",
      " block4_conv3 (Conv2D)       (None, 16, 16, 512)       2359808   \n",
      "                                                                 \n",
      " block4_conv4 (Conv2D)       (None, 16, 16, 512)       2359808   \n",
      "                                                                 \n",
      " block4_pool (MaxPooling2D)  (None, 8, 8, 512)         0         \n",
      "                                                                 \n",
      " block5_conv1 (Conv2D)       (None, 8, 8, 512)         2359808   \n",
      "                                                                 \n",
      " block5_conv2 (Conv2D)       (None, 8, 8, 512)         2359808   \n",
      "                                                                 \n",
      " block5_conv3 (Conv2D)       (None, 8, 8, 512)         2359808   \n",
      "                                                                 \n",
      " block5_conv4 (Conv2D)       (None, 8, 8, 512)         2359808   \n",
      "                                                                 \n",
      " block5_pool (MaxPooling2D)  (None, 4, 4, 512)         0         \n",
      "                                                                 \n",
      "=================================================================\n",
      "Total params: 20,024,384\n",
      "Trainable params: 0\n",
      "Non-trainable params: 20,024,384\n",
      "_________________________________________________________________\n"
     ]
    }
   ],
   "source": [
    "from tensorflow.keras.applications import VGG19\n",
    "from keras.models import Model\n",
    "import keras\n",
    "base_model = VGG19(include_top=False, weights='imagenet', input_shape=(image_size,image_size,3))\n",
    "# output = restnet.layers[-1].output\n",
    "# output = keras.layers.Flatten()(output)\n",
    "# restnet = Model(restnet.input, output=output)\n",
    "for layer in base_model.layers:\n",
    "    layer.trainable = False\n",
    "base_model.summary()"
   ]
  },
  {
   "cell_type": "code",
   "execution_count": 50,
   "metadata": {},
   "outputs": [
    {
     "name": "stdout",
     "output_type": "stream",
     "text": [
      "Model: \"sequential_2\"\n",
      "_________________________________________________________________\n",
      " Layer (type)                Output Shape              Param #   \n",
      "=================================================================\n",
      " vgg19 (Functional)          (None, 4, 4, 512)         20024384  \n",
      "                                                                 \n",
      " flatten_2 (Flatten)         (None, 8192)              0         \n",
      "                                                                 \n",
      " dense_10 (Dense)            (None, 512)               4194816   \n",
      "                                                                 \n",
      " dropout_8 (Dropout)         (None, 512)               0         \n",
      "                                                                 \n",
      " dense_11 (Dense)            (None, 256)               131328    \n",
      "                                                                 \n",
      " dropout_9 (Dropout)         (None, 256)               0         \n",
      "                                                                 \n",
      " dense_12 (Dense)            (None, 128)               32896     \n",
      "                                                                 \n",
      " dropout_10 (Dropout)        (None, 128)               0         \n",
      "                                                                 \n",
      " dense_13 (Dense)            (None, 64)                8256      \n",
      "                                                                 \n",
      " dropout_11 (Dropout)        (None, 64)                0         \n",
      "                                                                 \n",
      " dense_14 (Dense)            (None, 6)                 390       \n",
      "                                                                 \n",
      "=================================================================\n",
      "Total params: 24,392,070\n",
      "Trainable params: 4,367,686\n",
      "Non-trainable params: 20,024,384\n",
      "_________________________________________________________________\n"
     ]
    }
   ],
   "source": [
    "from keras.layers import Conv2D, MaxPooling2D, Flatten, Dense, Dropout, InputLayer\n",
    "from keras.models import Sequential\n",
    "from tensorflow.keras import optimizers\n",
    "\n",
    "model = Sequential()\n",
    "\n",
    "model.add(base_model)\n",
    "model.add(Flatten())\n",
    "model.add(Dense(512, activation='relu', input_dim=image_size))\n",
    "model.add(Dropout(0.3))\n",
    "# model.add(Dense(512, activation='relu'))\n",
    "# model.add(Dropout(0.3))\n",
    "model.add(Dense(256, activation='relu'))\n",
    "model.add(Dropout(0.3))\n",
    "model.add(Dense(128, activation='relu'))\n",
    "model.add(Dropout(0.3))\n",
    "model.add(Dense(64, activation='relu'))\n",
    "model.add(Dropout(0.3))\n",
    "model.add(Dense(6, activation='sigmoid'))\n",
    "model.compile(loss='binary_crossentropy',\n",
    "              optimizer=optimizers.RMSprop(lr=2e-5),\n",
    "              metrics=['accuracy'])\n",
    "model.summary()\n"
   ]
  },
  {
   "cell_type": "code",
   "execution_count": 51,
   "metadata": {},
   "outputs": [],
   "source": [
    "# opt = Adam(learning_rate=0.0005)\n",
    "# model.compile(optimizer=opt,loss='categorical_crossentropy',metrics=['accuracy'])"
   ]
  },
  {
   "cell_type": "code",
   "execution_count": 52,
   "metadata": {},
   "outputs": [],
   "source": [
    "# !pip install pydot"
   ]
  },
  {
   "cell_type": "code",
   "execution_count": 53,
   "metadata": {},
   "outputs": [],
   "source": [
    "# plot_model(model, to_file='model.png', show_shapes=True, show_layer_names=True)\n",
    "# Image('model.png',width=400, height=200)"
   ]
  },
  {
   "cell_type": "code",
   "execution_count": 54,
   "metadata": {},
   "outputs": [],
   "source": [
    "from tensorflow.keras.callbacks import ModelCheckpoint, ReduceLROnPlateau\n",
    "from livelossplot import PlotLossesKerasTF"
   ]
  },
  {
   "cell_type": "code",
   "execution_count": 55,
   "metadata": {},
   "outputs": [],
   "source": [
    "reduce_lr = ReduceLROnPlateau(monitor='val_loss', factor=0.1,\n",
    "                              patience=2, min_lr=0.0002, mode='auto')\n",
    "checkpoint = ModelCheckpoint(\"VGG19_old.h5\", monitor='val_accuracy',\n",
    "                             save_weights_only=True, mode='max', verbose=1)\n",
    "callbacks = [PlotLossesKerasTF(), checkpoint, reduce_lr]"
   ]
  },
  {
   "cell_type": "code",
   "execution_count": 56,
   "metadata": {},
   "outputs": [],
   "source": [
    "# history = model.fit(\n",
    "#     x=train_generator,\n",
    "#     steps_per_epoch=steps_per_epoch,\n",
    "#     epochs=epochs,\n",
    "#     validation_data = validation_generator,\n",
    "#     validation_steps = validation_steps\n",
    "# )"
   ]
  },
  {
   "cell_type": "code",
   "execution_count": 58,
   "metadata": {},
   "outputs": [
    {
     "data": {
      "image/png": "[encoded data removed]",
      "text/plain": [
       "<Figure size 864x576 with 2 Axes>"
      ]
     },
     "metadata": {
      "needs_background": "light"
     },
     "output_type": "display_data"
    },
    {
     "name": "stdout",
     "output_type": "stream",
     "text": [
      "accuracy\n",
      "\ttraining         \t (min:    0.189, max:    0.388, cur:    0.388)\n",
      "\tvalidation       \t (min:    0.173, max:    0.202, cur:    0.202)\n",
      "Loss\n",
      "\ttraining         \t (min:    0.413, max:    0.502, cur:    0.413)\n",
      "\tvalidation       \t (min:    0.453, max:    0.475, cur:    0.473)\n",
      "\n",
      "Epoch 00015: saving model to VGG19_old.h5\n",
      "163/163 [==============================] - 20s 125ms/step - loss: 0.4132 - accuracy: 0.3875 - val_loss: 0.4726 - val_accuracy: 0.2019 - lr: 2.0000e-05\n"
     ]
    }
   ],
   "source": [
    "history = model.fit(\n",
    "       x=train_generator, \n",
    "                    steps_per_epoch=train_generator.n//train_generator.batch_size, \n",
    "                    epochs=15,\n",
    "                    validation_data=validation_generator, \n",
    "                    validation_steps= validation_generator.n//validation_generator.batch_size, \n",
    "                    verbose=1,\n",
    "                    callbacks=callbacks\n",
    "                              )"
   ]
  },
  {
   "cell_type": "code",
   "execution_count": 59,
   "metadata": {},
   "outputs": [
    {
     "name": "stdout",
     "output_type": "stream",
     "text": [
      "WARNING:tensorflow:AutoGraph could not transform <function trace_model_call.<locals>._wrapped_model at 0x7f48ba241430> and will run it as-is.\n",
      "Please report this to the TensorFlow team. When filing the bug, set the verbosity to 10 (on Linux, `export AUTOGRAPH_VERBOSITY=10`) and attach the full output.\n",
      "Cause: module 'gast' has no attribute 'Constant'\n",
      "To silence this warning, decorate the function with @tf.autograph.experimental.do_not_convert\n",
      "WARNING: AutoGraph could not transform <function trace_model_call.<locals>._wrapped_model at 0x7f48ba241430> and will run it as-is.\n",
      "Please report this to the TensorFlow team. When filing the bug, set the verbosity to 10 (on Linux, `export AUTOGRAPH_VERBOSITY=10`) and attach the full output.\n",
      "Cause: module 'gast' has no attribute 'Constant'\n",
      "To silence this warning, decorate the function with @tf.autograph.experimental.do_not_convert\n",
      "WARNING:tensorflow:AutoGraph could not transform <function canonicalize_signatures.<locals>.signature_wrapper at 0x7f489e484670> and will run it as-is.\n",
      "Please report this to the TensorFlow team. When filing the bug, set the verbosity to 10 (on Linux, `export AUTOGRAPH_VERBOSITY=10`) and attach the full output.\n",
      "Cause: module 'gast' has no attribute 'Constant'\n",
      "To silence this warning, decorate the function with @tf.autograph.experimental.do_not_convert\n",
      "WARNING: AutoGraph could not transform <function canonicalize_signatures.<locals>.signature_wrapper at 0x7f489e484670> and will run it as-is.\n",
      "Please report this to the TensorFlow team. When filing the bug, set the verbosity to 10 (on Linux, `export AUTOGRAPH_VERBOSITY=10`) and attach the full output.\n",
      "Cause: module 'gast' has no attribute 'Constant'\n",
      "To silence this warning, decorate the function with @tf.autograph.experimental.do_not_convert\n",
      "INFO:tensorflow:Assets written to: VGG19_old/assets\n"
     ]
    }
   ],
   "source": [
    "model.save(\"VGG19_old\")"
   ]
  },
  {
   "cell_type": "code",
   "execution_count": 60,
   "metadata": {},
   "outputs": [],
   "source": [
    "model_json = model.to_json()\n",
    "with open(\"model.json_vgg19\", \"w\") as json_file:\n",
    "    json_file.write(model_json)"
   ]
  },
  {
   "cell_type": "code",
   "execution_count": 61,
   "metadata": {},
   "outputs": [],
   "source": [
    "from tensorflow.keras.preprocessing import image"
   ]
  },
  {
   "cell_type": "code",
   "execution_count": 62,
   "metadata": {},
   "outputs": [
    {
     "data": {
      "image/png": "[encoded data removed]",
      "text/plain": [
       "<PIL.Image.Image image mode=RGB size=128x128>"
      ]
     },
     "execution_count": 62,
     "metadata": {},
     "output_type": "execute_result"
    }
   ],
   "source": [
    "imageFolder = './Test/angry/'\n",
    "filePath = imageFolder + 'Training_10018621.jpg'\n",
    "image1 = image.load_img(filePath, target_size = (128,128))\n",
    "image1"
   ]
  },
  {
   "cell_type": "code",
   "execution_count": 63,
   "metadata": {},
   "outputs": [
    {
     "name": "stdout",
     "output_type": "stream",
     "text": [
      "(128, 128, 3)\n"
     ]
    }
   ],
   "source": [
    "transformedImage = image.img_to_array(image1)\n",
    "print(transformedImage.shape)"
   ]
  },
  {
   "cell_type": "code",
   "execution_count": 64,
   "metadata": {},
   "outputs": [
    {
     "name": "stdout",
     "output_type": "stream",
     "text": [
      "[[[243. 243. 243.]\n",
      "  [243. 243. 243.]\n",
      "  [243. 243. 243.]\n",
      "  ...\n",
      "  [ 17.  17.  17.]\n",
      "  [ 17.  17.  17.]\n",
      "  [ 17.  17.  17.]]\n",
      "\n",
      " [[243. 243. 243.]\n",
      "  [243. 243. 243.]\n",
      "  [243. 243. 243.]\n",
      "  ...\n",
      "  [ 17.  17.  17.]\n",
      "  [ 17.  17.  17.]\n",
      "  [ 17.  17.  17.]]\n",
      "\n",
      " [[243. 243. 243.]\n",
      "  [243. 243. 243.]\n",
      "  [243. 243. 243.]\n",
      "  ...\n",
      "  [ 17.  17.  17.]\n",
      "  [ 17.  17.  17.]\n",
      "  [ 17.  17.  17.]]\n",
      "\n",
      " ...\n",
      "\n",
      " [[240. 240. 240.]\n",
      "  [240. 240. 240.]\n",
      "  [240. 240. 240.]\n",
      "  ...\n",
      "  [ 97.  97.  97.]\n",
      "  [ 97.  97.  97.]\n",
      "  [ 97.  97.  97.]]\n",
      "\n",
      " [[240. 240. 240.]\n",
      "  [240. 240. 240.]\n",
      "  [240. 240. 240.]\n",
      "  ...\n",
      "  [ 97.  97.  97.]\n",
      "  [ 97.  97.  97.]\n",
      "  [ 97.  97.  97.]]\n",
      "\n",
      " [[240. 240. 240.]\n",
      "  [240. 240. 240.]\n",
      "  [240. 240. 240.]\n",
      "  ...\n",
      "  [ 97.  97.  97.]\n",
      "  [ 97.  97.  97.]\n",
      "  [ 97.  97.  97.]]]\n"
     ]
    }
   ],
   "source": [
    "print(transformedImage)"
   ]
  },
  {
   "cell_type": "code",
   "execution_count": 65,
   "metadata": {},
   "outputs": [
    {
     "data": {
      "text/plain": [
       "(1, 128, 128, 3)"
      ]
     },
     "execution_count": 65,
     "metadata": {},
     "output_type": "execute_result"
    }
   ],
   "source": [
    "import numpy as np\n",
    "transformedImage = np.expand_dims(transformedImage, axis = 0)\n",
    "transformedImage.shape"
   ]
  },
  {
   "cell_type": "code",
   "execution_count": 66,
   "metadata": {},
   "outputs": [],
   "source": [
    "from tensorflow.keras.applications.resnet50 import preprocess_input"
   ]
  },
  {
   "cell_type": "code",
   "execution_count": 67,
   "metadata": {},
   "outputs": [
    {
     "data": {
      "text/plain": [
       "array([[[[ 139.061   ,  126.221   ,  119.32    ],\n",
       "         [ 139.061   ,  126.221   ,  119.32    ],\n",
       "         [ 139.061   ,  126.221   ,  119.32    ],\n",
       "         ...,\n",
       "         [ -86.939   ,  -99.779   , -106.68    ],\n",
       "         [ -86.939   ,  -99.779   , -106.68    ],\n",
       "         [ -86.939   ,  -99.779   , -106.68    ]],\n",
       "\n",
       "        [[ 139.061   ,  126.221   ,  119.32    ],\n",
       "         [ 139.061   ,  126.221   ,  119.32    ],\n",
       "         [ 139.061   ,  126.221   ,  119.32    ],\n",
       "         ...,\n",
       "         [ -86.939   ,  -99.779   , -106.68    ],\n",
       "         [ -86.939   ,  -99.779   , -106.68    ],\n",
       "         [ -86.939   ,  -99.779   , -106.68    ]],\n",
       "\n",
       "        [[ 139.061   ,  126.221   ,  119.32    ],\n",
       "         [ 139.061   ,  126.221   ,  119.32    ],\n",
       "         [ 139.061   ,  126.221   ,  119.32    ],\n",
       "         ...,\n",
       "         [ -86.939   ,  -99.779   , -106.68    ],\n",
       "         [ -86.939   ,  -99.779   , -106.68    ],\n",
       "         [ -86.939   ,  -99.779   , -106.68    ]],\n",
       "\n",
       "        ...,\n",
       "\n",
       "        [[ 136.061   ,  123.221   ,  116.32    ],\n",
       "         [ 136.061   ,  123.221   ,  116.32    ],\n",
       "         [ 136.061   ,  123.221   ,  116.32    ],\n",
       "         ...,\n",
       "         [  -6.939003,  -19.779   ,  -26.68    ],\n",
       "         [  -6.939003,  -19.779   ,  -26.68    ],\n",
       "         [  -6.939003,  -19.779   ,  -26.68    ]],\n",
       "\n",
       "        [[ 136.061   ,  123.221   ,  116.32    ],\n",
       "         [ 136.061   ,  123.221   ,  116.32    ],\n",
       "         [ 136.061   ,  123.221   ,  116.32    ],\n",
       "         ...,\n",
       "         [  -6.939003,  -19.779   ,  -26.68    ],\n",
       "         [  -6.939003,  -19.779   ,  -26.68    ],\n",
       "         [  -6.939003,  -19.779   ,  -26.68    ]],\n",
       "\n",
       "        [[ 136.061   ,  123.221   ,  116.32    ],\n",
       "         [ 136.061   ,  123.221   ,  116.32    ],\n",
       "         [ 136.061   ,  123.221   ,  116.32    ],\n",
       "         ...,\n",
       "         [  -6.939003,  -19.779   ,  -26.68    ],\n",
       "         [  -6.939003,  -19.779   ,  -26.68    ],\n",
       "         [  -6.939003,  -19.779   ,  -26.68    ]]]], dtype=float32)"
      ]
     },
     "execution_count": 67,
     "metadata": {},
     "output_type": "execute_result"
    }
   ],
   "source": [
    "transformedImage = preprocess_input(transformedImage)\n",
    "transformedImage"
   ]
  },
  {
   "cell_type": "code",
   "execution_count": 68,
   "metadata": {},
   "outputs": [
    {
     "name": "stdout",
     "output_type": "stream",
     "text": [
      "WARNING:tensorflow:AutoGraph could not transform <function Model.make_predict_function.<locals>.predict_function at 0x7f489e3430d0> and will run it as-is.\n",
      "Please report this to the TensorFlow team. When filing the bug, set the verbosity to 10 (on Linux, `export AUTOGRAPH_VERBOSITY=10`) and attach the full output.\n",
      "Cause: module 'gast' has no attribute 'Constant'\n",
      "To silence this warning, decorate the function with @tf.autograph.experimental.do_not_convert\n",
      "WARNING: AutoGraph could not transform <function Model.make_predict_function.<locals>.predict_function at 0x7f489e3430d0> and will run it as-is.\n",
      "Please report this to the TensorFlow team. When filing the bug, set the verbosity to 10 (on Linux, `export AUTOGRAPH_VERBOSITY=10`) and attach the full output.\n",
      "Cause: module 'gast' has no attribute 'Constant'\n",
      "To silence this warning, decorate the function with @tf.autograph.experimental.do_not_convert\n",
      "[[3.1324340e-17 2.0381682e-11 2.4062338e-04 8.9485472e-13 1.8694351e-13\n",
      "  1.4592896e-07]]\n"
     ]
    }
   ],
   "source": [
    "prediction = model.predict(transformedImage)\n",
    "print(prediction)"
   ]
  },
  {
   "cell_type": "code",
   "execution_count": null,
   "metadata": {},
   "outputs": [],
   "source": [
    "# print(prediction.shape)"
   ]
  },
  {
   "cell_type": "code",
   "execution_count": null,
   "metadata": {},
   "outputs": [],
   "source": [
    "# from tensorflow.keras.applications.resnet50 import decode_predictions\n",
    "# predictionLabel = decode_predictions(prediction, top = 1)\n",
    "# predictionLabel\n",
    "# predictionLabel[0][0]"
   ]
  },
  {
   "cell_type": "code",
   "execution_count": null,
   "metadata": {},
   "outputs": [],
   "source": [
    "# predictionLabel[0][0]"
   ]
  },
  {
   "cell_type": "code",
   "execution_count": null,
   "metadata": {},
   "outputs": [],
   "source": [
    "# print('./Test/angry/Training_10018621.jpg/')"
   ]
  },
  {
   "cell_type": "code",
   "execution_count": null,
   "metadata": {},
   "outputs": [],
   "source": [
    "# epochs = 25\n",
    "# steps_per_epoch = train_generator.n//train_generator.batch_size\n",
    "# validation_steps = validation_generator.n//validation_generator.batch_size"
   ]
  },
  {
   "cell_type": "code",
   "execution_count": null,
   "metadata": {},
   "outputs": [],
   "source": [
    "# !pip install livelossplot"
   ]
  },
  {
   "cell_type": "code",
   "execution_count": null,
   "metadata": {},
   "outputs": [],
   "source": [
    "# pip install --upgrade pip"
   ]
  },
  {
   "cell_type": "code",
   "execution_count": null,
   "metadata": {},
   "outputs": [],
   "source": [
    "# from tensorflow.keras.callbacks import ModelCheckpoint, ReduceLROnPlateau\n",
    "# from livelossplot import PlotLossesKerasTF"
   ]
  },
  {
   "cell_type": "code",
   "execution_count": null,
   "metadata": {},
   "outputs": [],
   "source": [
    "# reduce_lr = ReduceLROnPlateau(monitor='val_loss', factor=0.1,\n",
    "#                               patience=2, min_lr=0.00001, mode='auto')\n",
    "# checkpoint = ModelCheckpoint(\"model_weight2s.h5\", monitor='val_accuracy',\n",
    "#                              save_weights_only=True, mode='max', verbose=1)\n",
    "# callbacks = [PlotLossesKerasTF(), checkpoint, reduce_lr]"
   ]
  },
  {
   "cell_type": "code",
   "execution_count": null,
   "metadata": {},
   "outputs": [],
   "source": [
    "# history = model.fit(\n",
    "#     x=train_generator,\n",
    "#     steps_per_epoch=steps_per_epoch,\n",
    "#     epochs=epochs,\n",
    "#     validation_data = validation_generator,\n",
    "#     validation_steps = validation_steps,\n",
    "#     callbacks=callbacks\n",
    "# )"
   ]
  },
  {
   "cell_type": "code",
   "execution_count": null,
   "metadata": {},
   "outputs": [
    {
     "ename": "KeyboardInterrupt",
     "evalue": "",
     "output_type": "error",
     "traceback": [
      "\u001b[0;31m---------------------------------------------------------------------------\u001b[0m",
      "\u001b[0;31mKeyboardInterrupt\u001b[0m                         Traceback (most recent call last)",
      "\u001b[1;32m/media/computer/a454b81a-4532-48c4-a200-7aad03b060e2/arham/ML project-1 2/ML project-1/tranferLearning.ipynb Cell 40\u001b[0m in \u001b[0;36m<cell line: 22>\u001b[0;34m()\u001b[0m\n\u001b[1;32m     <a href='vscode-notebook-cell:/media/computer/a454b81a-4532-48c4-a200-7aad03b060e2/arham/ML%20project-1%202/ML%20project-1/tranferLearning.ipynb#X56sZmlsZQ%3D%3D?line=18'>19</a>\u001b[0m cap \u001b[39m=\u001b[39m cv2\u001b[39m.\u001b[39mVideoCapture(\u001b[39m0\u001b[39m)\n\u001b[1;32m     <a href='vscode-notebook-cell:/media/computer/a454b81a-4532-48c4-a200-7aad03b060e2/arham/ML%20project-1%202/ML%20project-1/tranferLearning.ipynb#X56sZmlsZQ%3D%3D?line=20'>21</a>\u001b[0m \u001b[39mwhile\u001b[39;00m \u001b[39mTrue\u001b[39;00m:\n\u001b[0;32m---> <a href='vscode-notebook-cell:/media/computer/a454b81a-4532-48c4-a200-7aad03b060e2/arham/ML%20project-1%202/ML%20project-1/tranferLearning.ipynb#X56sZmlsZQ%3D%3D?line=21'>22</a>\u001b[0m     ret, test_img \u001b[39m=\u001b[39m cap\u001b[39m.\u001b[39;49mread()  \u001b[39m# captures frame and returns boolean value and captured image\u001b[39;00m\n\u001b[1;32m     <a href='vscode-notebook-cell:/media/computer/a454b81a-4532-48c4-a200-7aad03b060e2/arham/ML%20project-1%202/ML%20project-1/tranferLearning.ipynb#X56sZmlsZQ%3D%3D?line=22'>23</a>\u001b[0m     \u001b[39mif\u001b[39;00m \u001b[39mnot\u001b[39;00m ret:\n\u001b[1;32m     <a href='vscode-notebook-cell:/media/computer/a454b81a-4532-48c4-a200-7aad03b060e2/arham/ML%20project-1%202/ML%20project-1/tranferLearning.ipynb#X56sZmlsZQ%3D%3D?line=23'>24</a>\u001b[0m         \u001b[39mcontinue\u001b[39;00m\n",
      "\u001b[0;31mKeyboardInterrupt\u001b[0m: "
     ]
    }
   ],
   "source": [
    "import os\n",
    "import cv2\n",
    "import numpy as np\n",
    "from tensorflow.keras.preprocessing import image\n",
    "import warnings\n",
    "warnings.filterwarnings(\"ignore\")\n",
    "from tensorflow.keras.preprocessing.image import load_img, img_to_array \n",
    "from tensorflow.keras.models import  load_model\n",
    "import matplotlib.pyplot as plt\n",
    "import numpy as np\n",
    "\n",
    "# load model\n",
    "model = load_model(\"best_model.h5\")\n",
    "\n",
    "\n",
    "face_haar_cascade = cv2.CascadeClassifier(cv2.data.haarcascades + 'haarcascade_frontalface_default.xml')\n",
    "\n",
    "\n",
    "cap = cv2.VideoCapture(0)\n",
    "\n",
    "while True:\n",
    "    ret, test_img = cap.read()  # captures frame and returns boolean value and captured image\n",
    "    if not ret:\n",
    "        continue\n",
    "    gray_img = cv2.cvtColor(test_img, cv2.COLOR_BGR2GRAY)\n",
    "\n",
    "    faces_detected = face_haar_cascade.detectMultiScale(gray_img, 1.32, 5)\n",
    "\n",
    "    for (x, y, w, h) in faces_detected:\n",
    "        cv2.rectangle(test_img, (x, y), (x + w, y + h), (255, 0, 0), thickness=7)\n",
    "        roi_gray = gray_img[y:y + w, x:x + h]  # cropping region of interest i.e. face area from  image\n",
    "        roi_gray = cv2.resize(roi_gray, (48,48))\n",
    "        img_pixels = image.img_to_array(roi_gray)\n",
    "        img_pixels = np.expand_dims(img_pixels, axis=0)\n",
    "        img_pixels /= 255\n",
    "\n",
    "        predictions = model.predict(img_pixels)\n",
    "\n",
    "        # find max indexed array\n",
    "        max_index = np.argmax(predictions[0])\n",
    "\n",
    "        emotions = ('angry', 'disgust', 'fear', 'happy', 'sad', 'surprise', 'neutral')\n",
    "        predicted_emotion = emotions[max_index]\n",
    "\n",
    "        cv2.putText(test_img, predicted_emotion, (int(x), int(y)), cv2.FONT_HERSHEY_SIMPLEX, 1, (0, 0, 255), 2)\n",
    "\n",
    "    resized_img = cv2.resize(test_img, (1000, 700))\n",
    "    cv2.imshow('Facial emotion analysis ', resized_img)\n",
    "\n",
    "    if cv2.waitKey(10) == ord('q'):  # wait until 'q' key is pressed\n",
    "        break\n",
    "\n",
    "cap.release()\n",
    "cv2.destroyAllWindows"
   ]
  },
  {
   "cell_type": "code",
   "execution_count": null,
   "metadata": {},
   "outputs": [
    {
     "name": "stdout",
     "output_type": "stream",
     "text": [
      "./cnn_restnet50.h5\n"
     ]
    }
   ],
   "source": [
    "print(\"./cnn_restnet50.h5\")"
   ]
  },
  {
   "cell_type": "code",
   "execution_count": null,
   "metadata": {},
   "outputs": [],
   "source": []
  }
 ],
 "metadata": {
  "kernelspec": {
   "display_name": "Python 3.8.0 ('mcgan')",
   "language": "python",
   "name": "python3"
  },
  "language_info": {
   "codemirror_mode": {
    "name": "ipython",
    "version": 3
   },
   "file_extension": ".py",
   "mimetype": "text/x-python",
   "name": "python",
   "nbconvert_exporter": "python",
   "pygments_lexer": "ipython3",
   "version": "3.8.0"
  },
  "orig_nbformat": 4,
  "vscode": {
   "interpreter": {
    "hash": "e22f38cb9da9b17f6da823c5ec9c0d175fec9eb2b9358c92b511c195f015600b"
   }
  }
 },
 "nbformat": 4,
 "nbformat_minor": 2
}
